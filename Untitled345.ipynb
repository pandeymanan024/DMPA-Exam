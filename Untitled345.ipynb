{
  "nbformat": 4,
  "nbformat_minor": 0,
  "metadata": {
    "colab": {
      "name": "Untitled345.ipynb",
      "provenance": [],
      "authorship_tag": "ABX9TyMIihllJtija6U68kEhO91E",
      "include_colab_link": true
    },
    "kernelspec": {
      "name": "python3",
      "display_name": "Python 3"
    }
  },
  "cells": [
    {
      "cell_type": "markdown",
      "metadata": {
        "id": "view-in-github",
        "colab_type": "text"
      },
      "source": [
        "<a href=\"https://colab.research.google.com/github/pandeymanan024/DMPA-Exam/blob/master/Untitled345.ipynb\" target=\"_parent\"><img src=\"https://colab.research.google.com/assets/colab-badge.svg\" alt=\"Open In Colab\"/></a>"
      ]
    },
    {
      "cell_type": "code",
      "metadata": {
        "id": "QVObrComkZNO",
        "colab_type": "code",
        "colab": {
          "base_uri": "https://localhost:8080/",
          "height": 34
        },
        "outputId": "6900bdac-5d18-4193-94e1-9754cb5f40a3"
      },
      "source": [
        "!ls"
      ],
      "execution_count": 1,
      "outputs": [
        {
          "output_type": "stream",
          "text": [
            "sample_data\n"
          ],
          "name": "stdout"
        }
      ]
    },
    {
      "cell_type": "code",
      "metadata": {
        "id": "uTnVaBUikaQ6",
        "colab_type": "code",
        "colab": {
          "base_uri": "https://localhost:8080/",
          "height": 357
        },
        "outputId": "70662d44-671a-49aa-993f-f25d44e5ed1a"
      },
      "source": [
        "# For k-medoids\n",
        "print(\"Enter the medoids\")\n",
        "a,b = map(int,input().split())\n",
        "print(\"enter the data ojects range\")\n",
        "x=int(input())\n",
        "l=[]\n",
        "for i in range(x):\n",
        "  c,d=map(int,input().split())\n",
        "  l.append(abs(a-c)+abs(b-d))\n",
        "print(\"The cost distance is\")\n",
        "for i in l:\n",
        "  print(i)"
      ],
      "execution_count": 2,
      "outputs": [
        {
          "output_type": "stream",
          "text": [
            "Enter the medoids\n",
            "3 4\n",
            "enter the data ojects range\n",
            "8\n",
            "2 6\n",
            "3 8\n",
            "4 7\n",
            "6 2\n",
            "6 4\n",
            "7 3\n",
            "8 5\n",
            "7 6\n",
            "3\n",
            "4\n",
            "4\n",
            "5\n",
            "3\n",
            "5\n",
            "6\n",
            "6\n"
          ],
          "name": "stdout"
        }
      ]
    },
    {
      "cell_type": "code",
      "metadata": {
        "id": "H46f1TyolS2i",
        "colab_type": "code",
        "colab": {
          "base_uri": "https://localhost:8080/",
          "height": 316
        },
        "outputId": "e8ee8154-9b9a-4a03-ccfe-cebec8f13480"
      },
      "source": [
        "# For k-means\n",
        "import math\n",
        "l=[]\n",
        "print(\"Enter the no of pionts\")\n",
        "x=int(input())\n",
        "l1=[]\n",
        "print(\"Enter the points\")\n",
        "for i in range(x):\n",
        "  a,b=map(int,input().split())\n",
        "  l2=[]\n",
        "  l2.append(a)\n",
        "  l2.append(b)\n",
        "  l1.append(l2)\n",
        "print(\"Enter the centre point\")\n",
        "n,m=map(float,input().split())\n",
        "for i in  l1:\n",
        "  l.append(math.sqrt(((i[0]-n)**2)+((i[1]-m)**2)))\n",
        "\n",
        "for i in l:\n",
        "  print(i)\n"
      ],
      "execution_count": 35,
      "outputs": [
        {
          "output_type": "stream",
          "text": [
            "Enter the no of pionts\n",
            "8\n",
            "Enter the points\n",
            "2 2\n",
            "2.5 3\n"
          ],
          "name": "stdout"
        },
        {
          "output_type": "error",
          "ename": "ValueError",
          "evalue": "ignored",
          "traceback": [
            "\u001b[0;31m---------------------------------------------------------------------------\u001b[0m",
            "\u001b[0;31mValueError\u001b[0m                                Traceback (most recent call last)",
            "\u001b[0;32m<ipython-input-35-98e69f73f3fb>\u001b[0m in \u001b[0;36m<module>\u001b[0;34m()\u001b[0m\n\u001b[1;32m      7\u001b[0m \u001b[0mprint\u001b[0m\u001b[0;34m(\u001b[0m\u001b[0;34m\"Enter the points\"\u001b[0m\u001b[0;34m)\u001b[0m\u001b[0;34m\u001b[0m\u001b[0;34m\u001b[0m\u001b[0m\n\u001b[1;32m      8\u001b[0m \u001b[0;32mfor\u001b[0m \u001b[0mi\u001b[0m \u001b[0;32min\u001b[0m \u001b[0mrange\u001b[0m\u001b[0;34m(\u001b[0m\u001b[0mx\u001b[0m\u001b[0;34m)\u001b[0m\u001b[0;34m:\u001b[0m\u001b[0;34m\u001b[0m\u001b[0;34m\u001b[0m\u001b[0m\n\u001b[0;32m----> 9\u001b[0;31m   \u001b[0ma\u001b[0m\u001b[0;34m,\u001b[0m\u001b[0mb\u001b[0m\u001b[0;34m=\u001b[0m\u001b[0mmap\u001b[0m\u001b[0;34m(\u001b[0m\u001b[0mint\u001b[0m\u001b[0;34m,\u001b[0m\u001b[0minput\u001b[0m\u001b[0;34m(\u001b[0m\u001b[0;34m)\u001b[0m\u001b[0;34m.\u001b[0m\u001b[0msplit\u001b[0m\u001b[0;34m(\u001b[0m\u001b[0;34m)\u001b[0m\u001b[0;34m)\u001b[0m\u001b[0;34m\u001b[0m\u001b[0;34m\u001b[0m\u001b[0m\n\u001b[0m\u001b[1;32m     10\u001b[0m   \u001b[0ml2\u001b[0m\u001b[0;34m=\u001b[0m\u001b[0;34m[\u001b[0m\u001b[0;34m]\u001b[0m\u001b[0;34m\u001b[0m\u001b[0;34m\u001b[0m\u001b[0m\n\u001b[1;32m     11\u001b[0m   \u001b[0ml2\u001b[0m\u001b[0;34m.\u001b[0m\u001b[0mappend\u001b[0m\u001b[0;34m(\u001b[0m\u001b[0ma\u001b[0m\u001b[0;34m)\u001b[0m\u001b[0;34m\u001b[0m\u001b[0;34m\u001b[0m\u001b[0m\n",
            "\u001b[0;31mValueError\u001b[0m: invalid literal for int() with base 10: '2.5'"
          ]
        }
      ]
    },
    {
      "cell_type": "code",
      "metadata": {
        "id": "5twiYkmfmtkq",
        "colab_type": "code",
        "colab": {
          "base_uri": "https://localhost:8080/",
          "height": 391
        },
        "outputId": "2ad8134d-bdc5-4005-e860-c60ee45f8698"
      },
      "source": [
        "# For info \n",
        "import math\n",
        "def info():\n",
        "  print(\"Enetr the sum of rows\")\n",
        "  x=int(input())\n",
        "\n",
        "  print(\"Enetr the number of sliptting terms\")\n",
        "  x1=int(input())\n",
        "\n",
        "  l1=[]\n",
        "  print(\"Enter the terms \")\n",
        "  for i in range(x1):\n",
        "    l1.append(int(input()))\n",
        "\n",
        "  ssum=0\n",
        "\n",
        "  if l1.count(0)==1:\n",
        "    ssum=0\n",
        "    return ssum\n",
        "\n",
        "  for i in range(len(l1)):\n",
        "    c=-(l1[i]/x)\n",
        "    c1=math.log2(abs(c))\n",
        "    c2=c*c1\n",
        "    ssum+=c2\n",
        "  \n",
        "  return ssum\n",
        "\n",
        "print((0.940)-((4/14)*info() + (6/14)*info() + (4/14)*info()))\n",
        "#print(info())"
      ],
      "execution_count": 32,
      "outputs": [
        {
          "output_type": "stream",
          "text": [
            "Enetr the sum of rows\n",
            "4\n",
            "Enetr the number of sliptting terms\n",
            "2\n",
            "Enter the terms \n",
            "3\n",
            "1\n",
            "Enetr the sum of rows\n",
            "6\n",
            "Enetr the number of sliptting terms\n",
            "2\n",
            "Enter the terms \n",
            "4\n",
            "2\n",
            "Enetr the sum of rows\n",
            "4\n",
            "Enetr the number of sliptting terms\n",
            "2\n",
            "Enter the terms \n",
            "2\n",
            "2\n",
            "0.028936606988323677\n"
          ],
          "name": "stdout"
        }
      ]
    },
    {
      "cell_type": "code",
      "metadata": {
        "id": "VNV1byDJp33Z",
        "colab_type": "code",
        "colab": {
          "base_uri": "https://localhost:8080/",
          "height": 187
        },
        "outputId": "01939c20-5199-4bc4-8263-dacda9d444a6"
      },
      "source": [
        "def fmta(m,start,end1):\n",
        "  s=(m+1)%3\n",
        "  x1=0\n",
        "  x2=0\n",
        "  x3=0\n",
        "  y1=0\n",
        "  y2=0\n",
        "  y3=0\n",
        "\n",
        "  f1=1\n",
        "  f2=1\n",
        "  f3=1\n",
        "\n",
        "  fm1=0\n",
        "  fm2=0\n",
        "  fm3=0\n",
        "\n",
        "  if start[s]!=0 and end1[s]%start[s]==0:\n",
        "    x1=end1[s]/start[s]\n",
        "  else:\n",
        "    f1=0\n",
        "  \n",
        "  y1=end1[m]-start[m]*x1\n",
        "\n",
        "  y2=end1[s]-start[s]\n",
        "\n",
        "  if(start[m]!=0 and (end1[m]-y2)%start[m]==0):\n",
        "    x2=(end1[m]-y2)/start[m]\n",
        "  \n",
        "  else:\n",
        "    f2=0\n",
        "  \n",
        "  temp1=start[m]-start[s]\n",
        "  temp2=end1[m]-end1[s]\n",
        "\n",
        "  if(temp2%temp1==0) and temp1!=0:\n",
        "    x3=temp2//temp1\n",
        "\n",
        "  else:\n",
        "    f3=0\n",
        "\n",
        "  y3=end1[m]-start[m]*x3\n",
        "\n",
        "  lastkey=3-(m+s)\n",
        "\n",
        "  if f1==1:\n",
        "    if(((start[lastkey]*x1)==end1[lastkey]) or ((start[lastkey]+y1)==end1[lastkey]) or ((start[lastkey]*x1+y1)==end1[lastkey])):\n",
        "      print(\"1\")\n",
        "      fm1=1\n",
        "    else:\n",
        "      fm1=0\n",
        "\n",
        "  if f2==1:\n",
        "    if(((start[lastkey]*x2)==end1[lastkey]) or ((start[lastkey]+y2)==end1[lastkey]) or ((start[lastkey]*x2+y2)==end1[lastkey])):\n",
        "      print(\"2\")\n",
        "      fm2=1\n",
        "    else:\n",
        "      fm2=0\n",
        "\n",
        "  if f3==1:\n",
        "    if(((start[lastkey]*x3)==end1[lastkey]) or ((start[lastkey]+y3)==end1[lastkey]) or ((start[lastkey]*x3+y3)==end1[lastkey])):\n",
        "      print(\"3\")\n",
        "      fm3=1\n",
        "    else:\n",
        "      fm3=0\n",
        "  \n",
        "\n",
        "  if fm1==1 or fm2==1 or fm3==1:\n",
        "    print(\"LL\")\n",
        "    main_flag1=1\n",
        "\n",
        "l=[]\n",
        "\n",
        "for _ in range(int(input())):\n",
        "  arr1=list(map(int,input().split()))\n",
        "  arr2=list(map(int,input().split()))\n",
        "\n",
        "  main_flag1=0\n",
        "  #main_flag2=0\n",
        "  #main_flag3=0\n",
        "\n",
        "  for i in range(3):\n",
        "    fmta(0,arr1,arr2)\n",
        "    if main_flag1==1:\n",
        "      break\n",
        "  \n",
        "  if main_flag1==1:\n",
        "    l.append(2)\n",
        "  else:\n",
        "    l.append(3)\n",
        "\n",
        "  \n",
        "for i in l:\n",
        "  print(i)\n",
        "\n",
        "  \n",
        "  \n",
        "\n"
      ],
      "execution_count": 49,
      "outputs": [
        {
          "output_type": "stream",
          "text": [
            "1\n",
            "-4 -9 2\n",
            "19 18 4\n",
            "2\n",
            "LL\n",
            "2\n",
            "LL\n",
            "2\n",
            "LL\n",
            "3\n"
          ],
          "name": "stdout"
        }
      ]
    },
    {
      "cell_type": "code",
      "metadata": {
        "id": "uT0g4bD2p6vm",
        "colab_type": "code",
        "colab": {}
      },
      "source": [
        "y3=end1[m]-start[m]*x3"
      ],
      "execution_count": 0,
      "outputs": []
    }
  ]
}