{
  "nbformat": 4,
  "nbformat_minor": 0,
  "metadata": {
    "colab": {
      "name": "Untitled345.ipynb",
      "provenance": [],
      "authorship_tag": "ABX9TyOwl//WnIwv6Sx9fC1yUxQQ",
      "include_colab_link": true
    },
    "kernelspec": {
      "name": "python3",
      "display_name": "Python 3"
    }
  },
  "cells": [
    {
      "cell_type": "markdown",
      "metadata": {
        "id": "view-in-github",
        "colab_type": "text"
      },
      "source": [
        "<a href=\"https://colab.research.google.com/github/pandeymanan024/DMPA-Exam/blob/master/Untitled345.ipynb\" target=\"_parent\"><img src=\"https://colab.research.google.com/assets/colab-badge.svg\" alt=\"Open In Colab\"/></a>"
      ]
    },
    {
      "cell_type": "code",
      "metadata": {
        "id": "QVObrComkZNO",
        "colab_type": "code",
        "colab": {
          "base_uri": "https://localhost:8080/",
          "height": 34
        },
        "outputId": "6900bdac-5d18-4193-94e1-9754cb5f40a3"
      },
      "source": [
        "!ls"
      ],
      "execution_count": 1,
      "outputs": [
        {
          "output_type": "stream",
          "text": [
            "sample_data\n"
          ],
          "name": "stdout"
        }
      ]
    },
    {
      "cell_type": "code",
      "metadata": {
        "id": "uTnVaBUikaQ6",
        "colab_type": "code",
        "colab": {
          "base_uri": "https://localhost:8080/",
          "height": 357
        },
        "outputId": "70662d44-671a-49aa-993f-f25d44e5ed1a"
      },
      "source": [
        "# For k-medoids\n",
        "print(\"Enter the medoids\")\n",
        "a,b = map(int,input().split())\n",
        "print(\"enter the data ojects range\")\n",
        "x=int(input())\n",
        "l=[]\n",
        "for i in range(x):\n",
        "  c,d=map(int,input().split())\n",
        "  l.append(abs(a-c)+abs(b-d))\n",
        "print(\"The cost distance is\")\n",
        "for i in l:\n",
        "  print(i)\n",
        " "
      ],
      "execution_count": 2,
      "outputs": [
        {
          "output_type": "stream",
          "text": [
            "Enter the medoids\n",
            "3 4\n",
            "enter the data ojects range\n",
            "8\n",
            "2 6\n",
            "3 8\n",
            "4 7\n",
            "6 2\n",
            "6 4\n",
            "7 3\n",
            "8 5\n",
            "7 6\n",
            "3\n",
            "4\n",
            "4\n",
            "5\n",
            "3\n",
            "5\n",
            "6\n",
            "6\n"
          ],
          "name": "stdout"
        }
      ]
    },
    {
      "cell_type": "code",
      "metadata": {
        "id": "H46f1TyolS2i",
        "colab_type": "code",
        "colab": {
          "base_uri": "https://localhost:8080/",
          "height": 170
        },
        "outputId": "80a7e4f8-d7ea-4150-f0dd-9fe1e9deabd7"
      },
      "source": [
        "# For k-means\n",
        "import math\n",
        "l=[]\n",
        "print(\"Enter the no of pionts\")\n",
        "x=int(input())\n",
        "l1=[]\n",
        "print(\"Enter the points\")\n",
        "for i in range(x):\n",
        "  a,b=map(int,input().split())\n",
        "  l2=[]\n",
        "  l2.append(a)\n",
        "  l2.append(b)\n",
        "  l1.append(l2)\n",
        "print(\"Enter the centre point\")\n",
        "n,m=map(int,input().split())\n",
        "for i in  l1:\n",
        "  l.append(math.sqrt(((i[0]-n)**2)+((i[1]-m)**2)))\n",
        "\n",
        "for i in l:\n",
        "  print(i)\n"
      ],
      "execution_count": 7,
      "outputs": [
        {
          "output_type": "stream",
          "text": [
            "Enter the no of pionts\n",
            "2\n",
            "Enter the points\n",
            "2 5\n",
            "8 4\n",
            "Enter the centre point\n",
            "2 10\n",
            "5.0\n",
            "8.48528137423857\n"
          ],
          "name": "stdout"
        }
      ]
    },
    {
      "cell_type": "code",
      "metadata": {
        "id": "5twiYkmfmtkq",
        "colab_type": "code",
        "colab": {
          "base_uri": "https://localhost:8080/",
          "height": 153
        },
        "outputId": "bf239a51-6f96-48bf-b4ac-cfcb1752eb0f"
      },
      "source": [
        "# For info \n",
        "import math\n",
        "def info():\n",
        "  print(\"Enetr the sum of rows\")\n",
        "  x=int(input())\n",
        "\n",
        "  print(\"Enetr the number of sliptting terms\")\n",
        "  x1=int(input())\n",
        "\n",
        "  l1=[]\n",
        "  print(\"Enter the terms \")\n",
        "  for i in range(x1):\n",
        "    l1.append(int(input()))\n",
        "\n",
        "  ssum=0\n",
        "\n",
        "  if l1.count(0)==1:\n",
        "    ssum=0\n",
        "    return ssum\n",
        "\n",
        "  for i in range(len(l1)):\n",
        "    c=-(l1[i]/x)\n",
        "    c1=math.log2(abs(c))\n",
        "    c2=c*c1\n",
        "    ssum+=c2\n",
        "  \n",
        "  return ssum\n",
        "\n",
        "#print((4/14)*info() + (6/14)*info() + (4/14)*info())\n",
        "print(info())\n",
        "\n"
      ],
      "execution_count": 21,
      "outputs": [
        {
          "output_type": "stream",
          "text": [
            "Enetr the sum of rows\n",
            "6\n",
            "Enetr the number of sliptting terms\n",
            "2\n",
            "Enter the terms \n",
            "4\n",
            "2\n",
            "0.9182958340544896\n"
          ],
          "name": "stdout"
        }
      ]
    },
    {
      "cell_type": "code",
      "metadata": {
        "id": "VNV1byDJp33Z",
        "colab_type": "code",
        "colab": {
          "base_uri": "https://localhost:8080/",
          "height": 34
        },
        "outputId": "b4a68963-96a0-4b88-961f-5c62492d1658"
      },
      "source": [
        "print()"
      ],
      "execution_count": 8,
      "outputs": [
        {
          "output_type": "stream",
          "text": [
            "2.0\n"
          ],
          "name": "stdout"
        }
      ]
    },
    {
      "cell_type": "code",
      "metadata": {
        "id": "uT0g4bD2p6vm",
        "colab_type": "code",
        "colab": {}
      },
      "source": [
        ""
      ],
      "execution_count": 0,
      "outputs": []
    }
  ]
}